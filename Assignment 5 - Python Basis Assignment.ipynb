{
 "cells": [
  {
   "cell_type": "code",
   "execution_count": null,
   "id": "79be0d57",
   "metadata": {},
   "outputs": [],
   "source": [
    "1. What does an empty dictionary's code look like?"
   ]
  },
  {
   "cell_type": "code",
   "execution_count": null,
   "id": "570d0dec",
   "metadata": {},
   "outputs": [],
   "source": [
    "Ans1. An empty dictionary can be defined using curly braces {}. Below is the code :\n",
    "\n",
    "empty_dict = {}\n"
   ]
  },
  {
   "cell_type": "code",
   "execution_count": null,
   "id": "45ea6022",
   "metadata": {},
   "outputs": [],
   "source": [
    "2. What is the value of a dictionary value with the key 'foo' and the value 42?"
   ]
  },
  {
   "cell_type": "code",
   "execution_count": null,
   "id": "c11fa01b",
   "metadata": {},
   "outputs": [],
   "source": [
    "Ans2.\n",
    "\n",
    "empty_dict={'foo':42}"
   ]
  },
  {
   "cell_type": "code",
   "execution_count": null,
   "id": "7bd8eb1f",
   "metadata": {},
   "outputs": [],
   "source": [
    "3. What is the most significant distinction between a dictionary and a list?"
   ]
  },
  {
   "cell_type": "code",
   "execution_count": null,
   "id": "3d34d606",
   "metadata": {},
   "outputs": [],
   "source": [
    "Ans3. \n",
    "The most significant distinction between a dictionary and a list in Python is how they store and access data:\n",
    "\n",
    "    \n",
    "Dictionary: A dictionary is an unordered collection of key-value pairs. \n",
    "            Each key in the dictionary is unique and maps to a specific value. \n",
    "    \n",
    "    Syntax\n",
    "    my_dict = {\n",
    "    'key1': value1,\n",
    "    'key2': value2,\n",
    "    ...\n",
    "    }\n",
    "    \n",
    "List: A list is an ordered collection of items. \n",
    "      Items in a list are indexed by their positions (starting from 0) and are accessed based on their index.\n",
    "    \n",
    "    Syntax:\n",
    "    my_list = [ item1,item2,item3,....... ]\n",
    "    \n"
   ]
  },
  {
   "cell_type": "code",
   "execution_count": null,
   "id": "0e1110f9",
   "metadata": {},
   "outputs": [],
   "source": [
    "4. What happens if you try to access spam['foo'] if spam is {'bar': 100}?"
   ]
  },
  {
   "cell_type": "code",
   "execution_count": null,
   "id": "c7b28dde",
   "metadata": {},
   "outputs": [],
   "source": [
    "Ans4. If we try to access spam['foo'] and spam is {'bar': 100}, \n",
    "we will get a KeyError because the key 'foo' does not exist in the dictionary spam."
   ]
  },
  {
   "cell_type": "code",
   "execution_count": null,
   "id": "426a4a4e",
   "metadata": {},
   "outputs": [],
   "source": [
    "5. If a dictionary is stored in spam, what is the difference between the expressions 'cat' in spam and\n",
    "'cat' in spam.keys()?"
   ]
  },
  {
   "cell_type": "code",
   "execution_count": null,
   "id": "8ca59c05",
   "metadata": {},
   "outputs": [],
   "source": [
    "Ans5. In Python, both 'cat' in spam and 'cat' in spam.keys() are expressions that check for the existence of the key 'cat' in the dictionary spam. However, there is a subtle difference between the two expressions:\n",
    "    \n",
    "    \n",
    "In Python, both 'cat' in spam and 'cat' in spam.keys() are expressions that check for the existence of the key 'cat' in the dictionary spam. However, there is a subtle difference between the two expressions:\n",
    "\n",
    "1. 'cat' in spam:\n",
    "This expression checks whether the key 'cat' exists in the dictionary spam. It searches for the key directly within the dictionary's keys without explicitly using the .keys() method. If 'cat' is a key in the dictionary, this expression will evaluate to True, otherwise, it will evaluate to False.\n",
    "\n",
    "2. 'cat' in spam.keys():\n",
    "This expression explicitly checks whether the key 'cat' exists in the list of keys returned by the .keys() method of the dictionary spam. If 'cat' is a key in the dictionary, this expression will evaluate to True, otherwise, it will evaluate to False."
   ]
  },
  {
   "cell_type": "code",
   "execution_count": null,
   "id": "c1665e51",
   "metadata": {},
   "outputs": [],
   "source": [
    "6. If a dictionary is stored in spam, what is the difference between the expressions'cat' in spam and\n",
    "'cat' in spam.values()?"
   ]
  },
  {
   "cell_type": "code",
   "execution_count": null,
   "id": "b9498170",
   "metadata": {},
   "outputs": [],
   "source": [
    "Ans6. \n",
    "Both 'cat' in spam and 'cat' in spam.values() are expressions that check for the presence of the value 'cat' within the dictionary spam. However, there's an important distinction between these two expressions:\n",
    "\n",
    "1. 'cat' in spam:\n",
    "This expression checks whether the string 'cat' exists as a key in the dictionary spam. It searches for the string directly among the keys of the dictionary. If 'cat' is a key in the dictionary, this expression will evaluate to True, otherwise, it will evaluate to False. This expression doesn't consider the values stored in the dictionary.\n",
    "\n",
    "2. 'cat' in spam.values():\n",
    "This expression checks whether the string 'cat' exists as a value within the values of the dictionary spam. It searches for the string among all the values in the dictionary. If 'cat' is a value in any of the dictionary's key-value pairs, this expression will evaluate to True, otherwise, it will evaluate to False.\n"
   ]
  },
  {
   "cell_type": "code",
   "execution_count": null,
   "id": "94040e22",
   "metadata": {},
   "outputs": [],
   "source": [
    "7. What is a shortcut for the following code?\n",
    "if 'color' not in spam:\n",
    "spam['color'] = 'black';"
   ]
  },
  {
   "cell_type": "code",
   "execution_count": null,
   "id": "9c555931",
   "metadata": {},
   "outputs": [],
   "source": [
    "Ans7. The code you provided is a way to check if the key 'color' exists in the dictionary spam, and if it doesn't exist, you're adding the key 'color' with the value 'black'.\n",
    "\n",
    "A shortcut for achieving the same result is to use the dict.setdefault() method. This method checks if a key exists in the dictionary and, if not, adds the key with a specified default value. \n",
    "\n",
    "spam.setdefault('color', 'black')"
   ]
  },
  {
   "cell_type": "code",
   "execution_count": null,
   "id": "acebe5a4",
   "metadata": {},
   "outputs": [],
   "source": []
  },
  {
   "cell_type": "code",
   "execution_count": null,
   "id": "dea04e52",
   "metadata": {},
   "outputs": [],
   "source": []
  },
  {
   "cell_type": "code",
   "execution_count": null,
   "id": "6270dcdb",
   "metadata": {},
   "outputs": [],
   "source": []
  },
  {
   "cell_type": "code",
   "execution_count": null,
   "id": "2e72462f",
   "metadata": {},
   "outputs": [],
   "source": []
  }
 ],
 "metadata": {
  "kernelspec": {
   "display_name": "Python 3 (ipykernel)",
   "language": "python",
   "name": "python3"
  },
  "language_info": {
   "codemirror_mode": {
    "name": "ipython",
    "version": 3
   },
   "file_extension": ".py",
   "mimetype": "text/x-python",
   "name": "python",
   "nbconvert_exporter": "python",
   "pygments_lexer": "ipython3",
   "version": "3.11.3"
  }
 },
 "nbformat": 4,
 "nbformat_minor": 5
}
